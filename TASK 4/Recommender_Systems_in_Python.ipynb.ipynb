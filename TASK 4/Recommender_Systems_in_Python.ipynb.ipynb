{
  "cells": [
    {
      "metadata": {
        "_cell_guid": "e601f966-d03f-4edc-886f-ca3d511a8045",
        "_uuid": "569c301bd128f66f29b4d97c34171e4d1712015a",
        "trusted": true,
        "id": "BUXjRCW_Gmlt"
      },
      "cell_type": "code",
      "source": [
        "articles_df = pd.read_csv('../input/shared_articles.csv')\n",
        "articles_df = articles_df[articles_df['eventType'] == 'CONTENT SHARED']\n",
        "articles_df.head(5)"
      ],
      "execution_count": null,
      "outputs": []
    },
    {
      "metadata": {
        "_cell_guid": "487936d5-d7b3-487d-9ef1-e3ba1e4bc421",
        "_uuid": "3f96f2d88fa86814e2fa1273d80f26d2559823fd",
        "id": "DlAosfOeGmlu"
      },
      "cell_type": "markdown",
      "source": [
        "## users_interactions.csv"
      ]
    },
    {
      "metadata": {
        "_cell_guid": "325b8db8-ef44-4b59-8138-2a59bd02d66e",
        "_uuid": "86694f1b80b04b8f9b961148fb265f355f202b26",
        "id": "-_zhEQjpGmlu"
      },
      "cell_type": "markdown",
      "source": [
        "Contains logs of user interactions on shared articles. It can be joined to **articles_shared.csv** by **contentId** column.\n",
        "\n",
        "The eventType values are:  \n",
        "- **VIEW**: The user has opened the article.\n",
        "- **LIKE**: The user has liked the article.\n",
        "- **COMMENT CREATED**: The user created a comment in the article.\n",
        "- **FOLLOW**: The user chose to be notified on any new comment in the article.\n",
        "- **BOOKMARK**: The user has bookmarked the article for easy return in the future."
      ]
    },
    {
      "metadata": {
        "_cell_guid": "445d39ec-f6b0-4155-9f92-0a2540918bd1",
        "_uuid": "9829842326037e364de457f832deceae074d6164",
        "trusted": true,
        "id": "ZA9XtTMOGmlv"
      },
      "cell_type": "code",
      "source": [
        "interactions_df = pd.read_csv('../input/users_interactions.csv')\n",
        "interactions_df.head(10)"
      ],
      "execution_count": null,
      "outputs": []
    },
    {
      "metadata": {
        "_cell_guid": "585f81a5-c6ff-4399-bbec-901c41fc7285",
        "_uuid": "6abb0af8474eabb50be7a9e6496bfa75ec1b2bd9",
        "id": "1ucZbrXGGmlv"
      },
      "cell_type": "markdown",
      "source": [
        "## Data munging"
      ]
    },
    {
      "metadata": {
        "_cell_guid": "bad1a6c9-0258-4b89-85f9-bec89a523662",
        "_uuid": "84c2e91561d5de6afa7c45c173022193664c770e",
        "id": "zaPXVgI_Gmlv"
      },
      "cell_type": "markdown",
      "source": [
        "As there are different interactions types, we associate them with a weight or strength, assuming that, for example, a comment in an article indicates a higher interest of the user on the item than a like, or than a simple view."
      ]
    },
    {
      "metadata": {
        "_cell_guid": "3239c376-05b8-4a58-9afc-f6f57f67405f",
        "_uuid": "b06f8c0b082f0ad07bf773a5ad2fae33c1f7acc2",
        "trusted": true,
        "id": "uNojogh7Gmlw"
      },
      "cell_type": "code",
      "source": [
        "event_type_strength = {\n",
        "   'VIEW': 1.0,\n",
        "   'LIKE': 2.0,\n",
        "   'BOOKMARK': 2.5,\n",
        "   'FOLLOW': 3.0,\n",
        "   'COMMENT CREATED': 4.0,\n",
        "}\n",
        "\n",
        "interactions_df['eventStrength'] = interactions_df['eventType'].apply(lambda x: event_type_strength[x])"
      ],
      "execution_count": null,
      "outputs": []
    },
    {
      "metadata": {
        "_cell_guid": "5c92aa80-2926-44db-b358-c4c32de806c4",
        "_uuid": "91100a395fdf4fb20df02c8d248072457c980b5d",
        "id": "cv5yt5q_Gmlw"
      },
      "cell_type": "markdown",
      "source": [
        "Recommender systems have a problem known as ***user cold-start***, in which is hard do provide personalized recommendations for users with none or a very few number of consumed items, due to the lack of information to model their preferences.  \n",
        "For this reason, we are keeping in the dataset only users with at leas 5 interactions."
      ]
    },
    {
      "metadata": {
        "_cell_guid": "bad1d8ea-9b67-4a47-80c5-87a5e55c4f38",
        "_uuid": "1698c88340183baa7f3ebb8c3b60eaa8e6ca708f",
        "trusted": true,
        "id": "ENnjr9A_Gmlw"
      },
      "cell_type": "code",
      "source": [
        "users_interactions_count_df = interactions_df.groupby(['personId', 'contentId']).size().groupby('personId').size()\n",
        "print('# users: %d' % len(users_interactions_count_df))\n",
        "users_with_enough_interactions_df = users_interactions_count_df[users_interactions_count_df >= 5].reset_index()[['personId']]\n",
        "print('# users with at least 5 interactions: %d' % len(users_with_enough_interactions_df))"
      ],
      "execution_count": null,
      "outputs": []
    },
    {
      "metadata": {
        "_cell_guid": "4e79a418-a9d6-4e01-9f38-9b290a645626",
        "_uuid": "0f428a4c6e76f95de7ea328dc33c6539389ae5f0",
        "trusted": true,
        "id": "QRxCHxDSGmlx"
      },
      "cell_type": "code",
      "source": [
        "print('# of interactions: %d' % len(interactions_df))\n",
        "interactions_from_selected_users_df = interactions_df.merge(users_with_enough_interactions_df,\n",
        "               how = 'right',\n",
        "               left_on = 'personId',\n",
        "               right_on = 'personId')\n",
        "print('# of interactions from users with at least 5 interactions: %d' % len(interactions_from_selected_users_df))"
      ],
      "execution_count": null,
      "outputs": []
    },
    {
      "metadata": {
        "_cell_guid": "b81f2aae-4672-4ae7-aee5-f2c8f49ed863",
        "_uuid": "db9ae42791a79461ff11a462d142eae3d6c23e88",
        "id": "p7KimpWhGmlx"
      },
      "cell_type": "markdown",
      "source": [
        "In Deskdrop, users are allowed to view an article many times, and interact with them in different ways (eg. like or comment). Thus, to model the user interest on a given article, we aggregate all the interactions the user has performed in an item by a weighted sum of interaction type strength and apply a log transformation to smooth the distribution."
      ]
    },
    {
      "metadata": {
        "_cell_guid": "54c82dd1-1102-4f11-ac6a-7993f8e5e842",
        "_uuid": "dcd64b20b47cf2c365341303ff410626a801f7a6",
        "trusted": true,
        "id": "rxW56F21Gmlx"
      },
      "cell_type": "code",
      "source": [
        "def smooth_user_preference(x):\n",
        "    return math.log(1+x, 2)\n",
        "\n",
        "interactions_full_df = interactions_from_selected_users_df \\\n",
        "                    .groupby(['personId', 'contentId'])['eventStrength'].sum() \\\n",
        "                    .apply(smooth_user_preference).reset_index()\n",
        "print('# of unique user/item interactions: %d' % len(interactions_full_df))\n",
        "interactions_full_df.head(10)"
      ],
      "execution_count": null,
      "outputs": []
    },
    {
      "metadata": {
        "_cell_guid": "7db22656-f1b2-4264-b74d-92ef7e03168e",
        "_uuid": "999dac17031a334be5a2245086e9c4655c5e8324",
        "id": "MI6fg7QMGmlx"
      },
      "cell_type": "markdown",
      "source": [
        "# Evaluation"
      ]
    },
    {
      "metadata": {
        "_cell_guid": "e594a5ef-255a-4d30-9ab2-7cebe12fe798",
        "_uuid": "babda61be5306281b34422dbded67675a0aab17d",
        "trusted": true,
        "id": "V1tyvAQZGmly"
      },
      "cell_type": "code",
      "source": [
        "interactions_train_df, interactions_test_df = train_test_split(interactions_full_df,\n",
        "                                   stratify=interactions_full_df['personId'],\n",
        "                                   test_size=0.20,\n",
        "                                   random_state=42)\n",
        "\n",
        "print('# interactions on Train set: %d' % len(interactions_train_df))\n",
        "print('# interactions on Test set: %d' % len(interactions_test_df))"
      ],
      "execution_count": null,
      "outputs": []
    },
    {
      "metadata": {
        "_cell_guid": "5f08b8ac-00c7-43db-89b6-4c6637f92ec5",
        "_uuid": "b97d86eb838b7dc3ce70ce2bc460b37f643fbcbb",
        "trusted": true,
        "id": "rEokPcryGmlz"
      },
      "cell_type": "code",
      "source": [
        "#Indexing by personId to speed up the searches during evaluation\n",
        "interactions_full_indexed_df = interactions_full_df.set_index('personId')\n",
        "interactions_train_indexed_df = interactions_train_df.set_index('personId')\n",
        "interactions_test_indexed_df = interactions_test_df.set_index('personId')"
      ],
      "execution_count": null,
      "outputs": []
    },
    {
      "metadata": {
        "_cell_guid": "3ee4bdf5-fcde-418f-accc-c51421a71d75",
        "_uuid": "4c008550d5312b45c1786407cce587eaf19b565c",
        "trusted": true,
        "id": "76-8a98iGmlz"
      },
      "cell_type": "code",
      "source": [
        "def get_items_interacted(person_id, interactions_df):\n",
        "    # Get the user's data and merge in the movie information.\n",
        "    interacted_items = interactions_df.loc[person_id]['contentId']\n",
        "    return set(interacted_items if type(interacted_items) == pd.Series else [interacted_items])"
      ],
      "execution_count": null,
      "outputs": []
    },
    {
      "metadata": {
        "_cell_guid": "0e0639e7-4041-473d-a090-cd0087ce92c3",
        "_uuid": "c9612b159a8d626fe986586230b829ce2e93aff7",
        "trusted": true,
        "id": "0xeVEvvMGml0"
      },
      "cell_type": "code",
      "source": [
        "#Top-N accuracy metrics consts\n",
        "EVAL_RANDOM_SAMPLE_NON_INTERACTED_ITEMS = 100\n",
        "\n",
        "class ModelEvaluator:\n",
        "\n",
        "\n",
        "    def get_not_interacted_items_sample(self, person_id, sample_size, seed=42):\n",
        "        interacted_items = get_items_interacted(person_id, interactions_full_indexed_df)\n",
        "        all_items = set(articles_df['contentId'])\n",
        "        non_interacted_items = all_items - interacted_items\n",
        "\n",
        "        random.seed(seed)\n",
        "        non_interacted_items_sample = random.sample(non_interacted_items, sample_size)\n",
        "        return set(non_interacted_items_sample)\n",
        "\n",
        "    def _verify_hit_top_n(self, item_id, recommended_items, topn):\n",
        "            try:\n",
        "                index = next(i for i, c in enumerate(recommended_items) if c == item_id)\n",
        "            except:\n",
        "                index = -1\n",
        "            hit = int(index in range(0, topn))\n",
        "            return hit, index\n",
        "\n",
        "    def evaluate_model_for_user(self, model, person_id):\n",
        "        #Getting the items in test set\n",
        "        interacted_values_testset = interactions_test_indexed_df.loc[person_id]\n",
        "        if type(interacted_values_testset['contentId']) == pd.Series:\n",
        "            person_interacted_items_testset = set(interacted_values_testset['contentId'])\n",
        "        else:\n",
        "            person_interacted_items_testset = set([int(interacted_values_testset['contentId'])])\n",
        "        interacted_items_count_testset = len(person_interacted_items_testset)\n",
        "\n",
        "        #Getting a ranked recommendation list from a model for a given user\n",
        "        person_recs_df = model.recommend_items(person_id,\n",
        "                                               items_to_ignore=get_items_interacted(person_id,\n",
        "                                                                                    interactions_train_indexed_df),\n",
        "                                               topn=10000000000)\n",
        "\n",
        "        hits_at_5_count = 0\n",
        "        hits_at_10_count = 0\n",
        "        #For each item the user has interacted in test set\n",
        "        for item_id in person_interacted_items_testset:\n",
        "            #Getting a random sample (100) items the user has not interacted\n",
        "            #(to represent items that are assumed to be no relevant to the user)\n",
        "            non_interacted_items_sample = self.get_not_interacted_items_sample(person_id,\n",
        "                                                                          sample_size=EVAL_RANDOM_SAMPLE_NON_INTERACTED_ITEMS,\n",
        "                                                                          seed=item_id%(2**32))\n",
        "\n",
        "            #Combining the current interacted item with the 100 random items\n",
        "            items_to_filter_recs = non_interacted_items_sample.union(set([item_id]))\n",
        "\n",
        "            #Filtering only recommendations that are either the interacted item or from a random sample of 100 non-interacted items\n",
        "            valid_recs_df = person_recs_df[person_recs_df['contentId'].isin(items_to_filter_recs)]\n",
        "            valid_recs = valid_recs_df['contentId'].values\n",
        "            #Verifying if the current interacted item is among the Top-N recommended items\n",
        "            hit_at_5, index_at_5 = self._verify_hit_top_n(item_id, valid_recs, 5)\n",
        "            hits_at_5_count += hit_at_5\n",
        "            hit_at_10, index_at_10 = self._verify_hit_top_n(item_id, valid_recs, 10)\n",
        "            hits_at_10_count += hit_at_10\n",
        "\n",
        "        #Recall is the rate of the interacted items that are ranked among the Top-N recommended items,\n",
        "        #when mixed with a set of non-relevant items\n",
        "        recall_at_5 = hits_at_5_count / float(interacted_items_count_testset)\n",
        "        recall_at_10 = hits_at_10_count / float(interacted_items_count_testset)\n",
        "\n",
        "        person_metrics = {'hits@5_count':hits_at_5_count,\n",
        "                          'hits@10_count':hits_at_10_count,\n",
        "                          'interacted_count': interacted_items_count_testset,\n",
        "                          'recall@5': recall_at_5,\n",
        "                          'recall@10': recall_at_10}\n",
        "        return person_metrics\n",
        "\n",
        "    def evaluate_model(self, model):\n",
        "        #print('Running evaluation for users')\n",
        "        people_metrics = []\n",
        "        for idx, person_id in enumerate(list(interactions_test_indexed_df.index.unique().values)):\n",
        "            #if idx % 100 == 0 and idx > 0:\n",
        "            #    print('%d users processed' % idx)\n",
        "            person_metrics = self.evaluate_model_for_user(model, person_id)\n",
        "            person_metrics['_person_id'] = person_id\n",
        "            people_metrics.append(person_metrics)\n",
        "        print('%d users processed' % idx)\n",
        "\n",
        "        detailed_results_df = pd.DataFrame(people_metrics) \\\n",
        "                            .sort_values('interacted_count', ascending=False)\n",
        "\n",
        "        global_recall_at_5 = detailed_results_df['hits@5_count'].sum() / float(detailed_results_df['interacted_count'].sum())\n",
        "        global_recall_at_10 = detailed_results_df['hits@10_count'].sum() / float(detailed_results_df['interacted_count'].sum())\n",
        "\n",
        "        global_metrics = {'modelName': model.get_model_name(),\n",
        "                          'recall@5': global_recall_at_5,\n",
        "                          'recall@10': global_recall_at_10}\n",
        "        return global_metrics, detailed_results_df\n",
        "\n",
        "model_evaluator = ModelEvaluator()"
      ],
      "execution_count": null,
      "outputs": []
    },
    {
      "metadata": {
        "_cell_guid": "2fac2a15-cc5c-4f31-8818-8065b0d2dc16",
        "_uuid": "59dd2131949c4d7e801114bffc11fb439c930b4c",
        "id": "56Y2aPk4Gml0"
      },
      "cell_type": "markdown",
      "source": [
        "# Popularity model"
      ]
    },
    {
      "metadata": {
        "_cell_guid": "4e6ee0fc-a695-4e0e-8548-321109f2a6fb",
        "_uuid": "a1af9bca32a056b9ea7e265531dfd52bad29c0b5",
        "id": "_XBrFekIGml1"
      },
      "cell_type": "markdown",
      "source": [
        "A common (and usually hard-to-beat) baseline approach is the Popularity model. This model is not actually personalized - it simply recommends to a user the most popular items that the user has not previously consumed. As the popularity accounts for the \"wisdom of the crowds\", it usually provides good recommendations, generally interesting for most people.   \n",
        "Ps. The main objective of a recommender system is to leverage the long-tail items to the users with very specific interests, which goes far beyond this simple technique."
      ]
    },
    {
      "metadata": {
        "_cell_guid": "9f525720-8c11-462c-82d8-764f36470e89",
        "_uuid": "c3e52a16c288e002c2e7e2e019139491bc01b782",
        "trusted": true,
        "id": "LDVUIOZxGml3"
      },
      "cell_type": "code",
      "source": [
        "#Computes the most popular items\n",
        "item_popularity_df = interactions_full_df.groupby('contentId')['eventStrength'].sum().sort_values(ascending=False).reset_index()\n",
        "item_popularity_df.head(10)"
      ],
      "execution_count": null,
      "outputs": []
    },
    {
      "metadata": {
        "_cell_guid": "cdd99856-fae2-4d32-ab54-cb6cf4201503",
        "_uuid": "58a6d3de74a911a005bb8911f9c1374673d2b008",
        "trusted": true,
        "id": "f5tR0ApuGml3"
      },
      "cell_type": "code",
      "source": [
        "class PopularityRecommender:\n",
        "\n",
        "    MODEL_NAME = 'Popularity'\n",
        "\n",
        "    def __init__(self, popularity_df, items_df=None):\n",
        "        self.popularity_df = popularity_df\n",
        "        self.items_df = items_df\n",
        "\n",
        "    def get_model_name(self):\n",
        "        return self.MODEL_NAME\n",
        "\n",
        "    def recommend_items(self, user_id, items_to_ignore=[], topn=10, verbose=False):\n",
        "        # Recommend the more popular items that the user hasn't seen yet.\n",
        "        recommendations_df = self.popularity_df[~self.popularity_df['contentId'].isin(items_to_ignore)] \\\n",
        "                               .sort_values('eventStrength', ascending = False) \\\n",
        "                               .head(topn)\n",
        "\n",
        "        if verbose:\n",
        "            if self.items_df is None:\n",
        "                raise Exception('\"items_df\" is required in verbose mode')\n",
        "\n",
        "            recommendations_df = recommendations_df.merge(self.items_df, how = 'left',\n",
        "                                                          left_on = 'contentId',\n",
        "                                                          right_on = 'contentId')[['eventStrength', 'contentId', 'title', 'url', 'lang']]\n",
        "\n",
        "\n",
        "        return recommendations_df\n",
        "\n",
        "popularity_model = PopularityRecommender(item_popularity_df, articles_df)"
      ],
      "execution_count": null,
      "outputs": []
    },
    {
      "metadata": {
        "_cell_guid": "b48e3738-fccc-492c-9419-c1ef3d67f888",
        "_uuid": "23f97cc1b45f8a9d0b51e031e892c240fe3948eb",
        "id": "DHeY4IymGml4"
      },
      "cell_type": "markdown",
      "source": [
        "Here we perform the evaluation of the Popularity model, according to the method described above.  \n",
        "It achieved the **Recall@5** of **0.2417**, which means that about **24%** of interacted items in test set were ranked by Popularity model among the top-5 items (from lists with 100 random items). And **Recall@10** was even higher (**37%**), as expected.  \n",
        "It might be surprising to you that usually Popularity models could perform so well!"
      ]
    },
    {
      "metadata": {
        "_cell_guid": "f2bc6291-5728-465e-a45d-7e064f4b35c6",
        "_uuid": "d6a3d8ab0913ee85399fb0a948a3e4b01b173a56",
        "trusted": true,
        "id": "ElMRnq0zGml4"
      },
      "cell_type": "code",
      "source": [
        "print('Evaluating Popularity recommendation model...')\n",
        "pop_global_metrics, pop_detailed_results_df = model_evaluator.evaluate_model(popularity_model)\n",
        "print('\\nGlobal metrics:\\n%s' % pop_global_metrics)\n",
        "pop_detailed_results_df.head(10)"
      ],
      "execution_count": null,
      "outputs": []
    },
    {
      "metadata": {
        "_cell_guid": "96005510-c4ac-41c4-b60d-cb2ded15a71a",
        "_uuid": "ddb5580ac46252c2fde764a72a0d7b34c652e4d8",
        "id": "XKNZ2eEdGml4"
      },
      "cell_type": "markdown",
      "source": [
        "# Content-Based Filtering model"
      ]
    },
    {
      "metadata": {
        "_cell_guid": "aebda143-fc54-4bba-8e32-6919902d6af2",
        "_uuid": "8a623643872e9d09701cd1d0ce9dee4163279f3d",
        "trusted": true,
        "id": "quuQ5te9Gml5"
      },
      "cell_type": "code",
      "source": [
        "#Ignoring stopwords (words with no semantics) from English and Portuguese (as we have a corpus with mixed languages)\n",
        "stopwords_list = stopwords.words('english') + stopwords.words('portuguese')\n",
        "\n",
        "#Trains a model whose vectors size is 5000, composed by the main unigrams and bigrams found in the corpus, ignoring stopwords\n",
        "vectorizer = TfidfVectorizer(analyzer='word',\n",
        "                     ngram_range=(1, 2),\n",
        "                     min_df=0.003,\n",
        "                     max_df=0.5,\n",
        "                     max_features=5000,\n",
        "                     stop_words=stopwords_list)\n",
        "\n",
        "item_ids = articles_df['contentId'].tolist()\n",
        "tfidf_matrix = vectorizer.fit_transform(articles_df['title'] + \"\" + articles_df['text'])\n",
        "tfidf_feature_names = vectorizer.get_feature_names()\n",
        "tfidf_matrix"
      ],
      "execution_count": null,
      "outputs": []
    },
    {
      "metadata": {
        "_cell_guid": "e265ff20-06d7-4daf-9c45-6d141c176820",
        "_uuid": "cb7221c8d676387647cdd049e2b096c9f2c1b6a0",
        "id": "pRTjy8R7Gml5"
      },
      "cell_type": "markdown",
      "source": [
        "To model the user profile, we take all the item profiles the user has interacted and average them. The average is weighted by the interaction strength, in other words, the articles the user has interacted the most (eg. liked or commented) will have a higher strength in the final user profile.   "
      ]
    },
    {
      "metadata": {
        "_cell_guid": "62a5d822-9673-46ab-9e81-343006fed1c8",
        "_uuid": "52abadb8d20d8f42a9d6ca64cf061ad6e50e6f95",
        "trusted": true,
        "id": "1hgxP_tTGmmC"
      },
      "cell_type": "code",
      "source": [
        "def get_item_profile(item_id):\n",
        "    idx = item_ids.index(item_id)\n",
        "    item_profile = tfidf_matrix[idx:idx+1]\n",
        "    return item_profile\n",
        "\n",
        "def get_item_profiles(ids):\n",
        "    item_profiles_list = [get_item_profile(x) for x in ids]\n",
        "    item_profiles = scipy.sparse.vstack(item_profiles_list)\n",
        "    return item_profiles\n",
        "\n",
        "def build_users_profile(person_id, interactions_indexed_df):\n",
        "    interactions_person_df = interactions_indexed_df.loc[person_id]\n",
        "    user_item_profiles = get_item_profiles(interactions_person_df['contentId'])\n",
        "\n",
        "    user_item_strengths = np.array(interactions_person_df['eventStrength']).reshape(-1,1)\n",
        "    #Weighted average of item profiles by the interactions strength\n",
        "    user_item_strengths_weighted_avg = np.sum(user_item_profiles.multiply(user_item_strengths), axis=0) / np.sum(user_item_strengths)\n",
        "    user_profile_norm = sklearn.preprocessing.normalize(user_item_strengths_weighted_avg)\n",
        "    return user_profile_norm\n",
        "\n",
        "def build_users_profiles():\n",
        "    interactions_indexed_df = interactions_train_df[interactions_train_df['contentId'] \\\n",
        "                                                   .isin(articles_df['contentId'])].set_index('personId')\n",
        "    user_profiles = {}\n",
        "    for person_id in interactions_indexed_df.index.unique():\n",
        "        user_profiles[person_id] = build_users_profile(person_id, interactions_indexed_df)\n",
        "    return user_profiles"
      ],
      "execution_count": null,
      "outputs": []
    },
    {
      "metadata": {
        "_cell_guid": "4a390c44-8d4a-40c9-8d09-e7423bb60e96",
        "_uuid": "4b115474b476319c74e1bf84c0d8edf9f8fc4229",
        "trusted": true,
        "id": "u_CJyA1MGmmC"
      },
      "cell_type": "code",
      "source": [
        "user_profiles = build_users_profiles()\n",
        "len(user_profiles)"
      ],
      "execution_count": null,
      "outputs": []
    },
    {
      "metadata": {
        "_cell_guid": "b12a6abe-acd0-4701-bf41-cedb753b57c9",
        "_uuid": "348ecd5b2d9259bd1a5161eb0734f6a7e18e4142",
        "trusted": true,
        "id": "BLq-auckGmmD"
      },
      "cell_type": "code",
      "source": [
        "myprofile = user_profiles[-1479311724257856983]\n",
        "print(myprofile.shape)\n",
        "pd.DataFrame(sorted(zip(tfidf_feature_names,\n",
        "                        user_profiles[-1479311724257856983].flatten().tolist()), key=lambda x: -x[1])[:20],\n",
        "             columns=['token', 'relevance'])"
      ],
      "execution_count": null,
      "outputs": []
    },
    {
      "metadata": {
        "_cell_guid": "e82114b3-a382-4590-a89c-9c3ccb79bde7",
        "_uuid": "06a8f67de0c9ed4d0ac426e6e56f168900cbfe28",
        "trusted": true,
        "id": "ywyjq6DAGmmD"
      },
      "cell_type": "code",
      "source": [
        "class ContentBasedRecommender:\n",
        "\n",
        "    MODEL_NAME = 'Content-Based'\n",
        "\n",
        "    def __init__(self, items_df=None):\n",
        "        self.item_ids = item_ids\n",
        "        self.items_df = items_df\n",
        "\n",
        "    def get_model_name(self):\n",
        "        return self.MODEL_NAME\n",
        "\n",
        "    def _get_similar_items_to_user_profile(self, person_id, topn=1000):\n",
        "        #Computes the cosine similarity between the user profile and all item profiles\n",
        "        cosine_similarities = cosine_similarity(user_profiles[person_id], tfidf_matrix)\n",
        "        #Gets the top similar items\n",
        "        similar_indices = cosine_similarities.argsort().flatten()[-topn:]\n",
        "        #Sort the similar items by similarity\n",
        "        similar_items = sorted([(item_ids[i], cosine_similarities[0,i]) for i in similar_indices], key=lambda x: -x[1])\n",
        "        return similar_items\n",
        "\n",
        "    def recommend_items(self, user_id, items_to_ignore=[], topn=10, verbose=False):\n",
        "        similar_items = self._get_similar_items_to_user_profile(user_id)\n",
        "        #Ignores items the user has already interacted\n",
        "        similar_items_filtered = list(filter(lambda x: x[0] not in items_to_ignore, similar_items))\n",
        "\n",
        "        recommendations_df = pd.DataFrame(similar_items_filtered, columns=['contentId', 'recStrength']) \\\n",
        "                                    .head(topn)\n",
        "\n",
        "        if verbose:\n",
        "            if self.items_df is None:\n",
        "                raise Exception('\"items_df\" is required in verbose mode')\n",
        "\n",
        "            recommendations_df = recommendations_df.merge(self.items_df, how = 'left',\n",
        "                                                          left_on = 'contentId',\n",
        "                                                          right_on = 'contentId')[['recStrength', 'contentId', 'title', 'url', 'lang']]\n",
        "\n",
        "\n",
        "        return recommendations_df\n",
        "\n",
        "content_based_recommender_model = ContentBasedRecommender(articles_df)"
      ],
      "execution_count": null,
      "outputs": []
    },
    {
      "metadata": {
        "_cell_guid": "137369e9-a848-47b2-b428-d18096bb6bf6",
        "_uuid": "3e3ee4386eeece492e4dcc6dee0c37777bc0ad4a",
        "id": "-G5D1JdeGmmE"
      },
      "cell_type": "markdown",
      "source": [
        "With personalized recommendations of content-based filtering model, we have a **Recall@5** to about **0.162**, which means that about **16%** of interacted items in test set were ranked by this model among the top-5 items (from lists with 100 random items).\n",
        "And **Recall@10** was **0.261 (52%)**.\n",
        "The lower performance of the Content-Based model compared to the Popularity model may indicate that users are not that fixed in content very similar to their previous reads."
      ]
    },
    {
      "metadata": {
        "_cell_guid": "beada036-9045-4d62-87cf-959ecfa406cf",
        "_uuid": "c95c8fdc22b1eb70c85d547b44d87e937a061b43",
        "trusted": true,
        "id": "MU5MHoRjGmmE"
      },
      "cell_type": "code",
      "source": [
        "print('Evaluating Content-Based Filtering model...')\n",
        "cb_global_metrics, cb_detailed_results_df = model_evaluator.evaluate_model(content_based_recommender_model)\n",
        "print('\\nGlobal metrics:\\n%s' % cb_global_metrics)\n",
        "cb_detailed_results_df.head(10)"
      ],
      "execution_count": null,
      "outputs": []
    },
    {
      "metadata": {
        "_cell_guid": "ffacb568-e972-4fc8-9b14-eb647c24a003",
        "_uuid": "a43201479e662d0b8d9bac847f990543cb77b11f",
        "id": "ImZFaia0GmmE"
      },
      "cell_type": "markdown",
      "source": [
        "# Collaborative Filtering model"
      ]
    },
    {
      "metadata": {
        "_cell_guid": "9e73bff0-3136-445a-b3d2-36b875681b8a",
        "_uuid": "4a69f34bfef5054abc9cf27769e4b563f004ed17",
        "trusted": true,
        "id": "fYiLloiPGmmG"
      },
      "cell_type": "code",
      "source": [
        "#Creating a sparse pivot table with users in rows and items in columns\n",
        "users_items_pivot_matrix_df = interactions_train_df.pivot(index='personId',\n",
        "                                                          columns='contentId',\n",
        "                                                          values='eventStrength').fillna(0)\n",
        "\n",
        "users_items_pivot_matrix_df.head(10)"
      ],
      "execution_count": null,
      "outputs": []
    },
    {
      "metadata": {
        "_cell_guid": "39c293cb-c8a7-49d1-a296-ade311bf2296",
        "_uuid": "38cc2200590bb84cd535669df8ee8177d81989eb",
        "trusted": true,
        "id": "XsqxpH5lGmmG"
      },
      "cell_type": "code",
      "source": [
        "users_items_pivot_matrix = users_items_pivot_matrix_df.as_matrix()\n",
        "users_items_pivot_matrix[:10]"
      ],
      "execution_count": null,
      "outputs": []
    },
    {
      "metadata": {
        "_cell_guid": "782aee35-da8d-45de-83bd-da38e44b3a43",
        "_uuid": "00ff9564c711e3d95c8b9a893c04e613249be42b",
        "trusted": true,
        "id": "-ZiaVoPiGmmH"
      },
      "cell_type": "code",
      "source": [
        "users_ids = list(users_items_pivot_matrix_df.index)\n",
        "users_ids[:10]"
      ],
      "execution_count": null,
      "outputs": []
    },
    {
      "metadata": {
        "trusted": true,
        "id": "AnzczpszGmmH"
      },
      "cell_type": "code",
      "source": [
        "users_items_pivot_sparse_matrix = csr_matrix(users_items_pivot_matrix)\n",
        "users_items_pivot_sparse_matrix"
      ],
      "execution_count": null,
      "outputs": []
    },
    {
      "metadata": {
        "_cell_guid": "8eb2f704-cbf4-4fe3-9532-baab1c8db872",
        "_uuid": "6322d8e7afa0ac49f0df5451e304b394f410a056",
        "trusted": true,
        "id": "XfLplWBnGmmH"
      },
      "cell_type": "code",
      "source": [
        "#The number of factors to factor the user-item matrix.\n",
        "NUMBER_OF_FACTORS_MF = 15\n",
        "#Performs matrix factorization of the original user item matrix\n",
        "#U, sigma, Vt = svds(users_items_pivot_matrix, k = NUMBER_OF_FACTORS_MF)\n",
        "U, sigma, Vt = svds(users_items_pivot_sparse_matrix, k = NUMBER_OF_FACTORS_MF)"
      ],
      "execution_count": null,
      "outputs": []
    },
    {
      "metadata": {
        "_cell_guid": "9b0001e9-d560-4b6f-95a7-ae6605a72a2b",
        "_uuid": "7f6757eb2997a448537b4f59a77a6022f45edc87",
        "trusted": true,
        "id": "CAKzsplPGmmI"
      },
      "cell_type": "code",
      "source": [
        "U.shape"
      ],
      "execution_count": null,
      "outputs": []
    },
    {
      "metadata": {
        "_cell_guid": "d59bac45-f8ac-422f-9a1f-c66063ca8235",
        "_uuid": "f1d0ab3e77b1c118c4867f71a4b55534e8ceb2f9",
        "trusted": true,
        "id": "kzHRIKevGmmI"
      },
      "cell_type": "code",
      "source": [
        "Vt.shape"
      ],
      "execution_count": null,
      "outputs": []
    },
    {
      "metadata": {
        "_cell_guid": "98b34c7d-674d-4b83-93f9-54e6d19ae9df",
        "_uuid": "f0807b245c6f939daae6447ad00594eaabd2c134",
        "trusted": true,
        "id": "wreIGXLSGmmI"
      },
      "cell_type": "code",
      "source": [
        "sigma = np.diag(sigma)\n",
        "sigma.shape"
      ],
      "execution_count": null,
      "outputs": []
    },
    {
      "metadata": {
        "_cell_guid": "5cf974d4-ca0c-487a-8561-7952be1d2f16",
        "_uuid": "de8f01beee0d5fad5e4cfd614b7c86c36b827958",
        "id": "qMX62urOGmmJ"
      },
      "cell_type": "markdown",
      "source": [
        "After the factorization, we try to to reconstruct the original matrix by multiplying its factors. The resulting matrix is not sparse any more. It was generated predictions for items the user have not yet interaction, which we will exploit for recommendations."
      ]
    },
    {
      "metadata": {
        "_cell_guid": "d8d09c7b-9a23-4e4f-a602-23ed20e18a1e",
        "_uuid": "66eafaba59d8ccf7dc1c02043881a64be1bba5d2",
        "trusted": true,
        "id": "SKo134XQGmmJ"
      },
      "cell_type": "code",
      "source": [
        "all_user_predicted_ratings = np.dot(np.dot(U, sigma), Vt)\n",
        "all_user_predicted_ratings"
      ],
      "execution_count": null,
      "outputs": []
    },
    {
      "metadata": {
        "trusted": true,
        "id": "simmDH1RGmmJ"
      },
      "cell_type": "code",
      "source": [
        "all_user_predicted_ratings_norm = (all_user_predicted_ratings - all_user_predicted_ratings.min()) / (all_user_predicted_ratings.max() - all_user_predicted_ratings.min())"
      ],
      "execution_count": null,
      "outputs": []
    },
    {
      "metadata": {
        "_cell_guid": "6664c5e4-14ab-47e2-a8ae-63699a531983",
        "_uuid": "1e6420b17affd1c786847b3f272d65a7ebb6b08e",
        "trusted": true,
        "id": "P9LDECn4GmmJ"
      },
      "cell_type": "code",
      "source": [
        "#Converting the reconstructed matrix back to a Pandas dataframe\n",
        "cf_preds_df = pd.DataFrame(all_user_predicted_ratings_norm, columns = users_items_pivot_matrix_df.columns, index=users_ids).transpose()\n",
        "cf_preds_df.head(10)"
      ],
      "execution_count": null,
      "outputs": []
    },
    {
      "metadata": {
        "_cell_guid": "9641fbce-f667-48f7-9142-85e486cc201d",
        "_uuid": "d51ffda7cbeab216ad6e1b449a6cec5000c780f4",
        "trusted": true,
        "id": "AYdyQ0zjGmmK"
      },
      "cell_type": "code",
      "source": [
        "len(cf_preds_df.columns)"
      ],
      "execution_count": null,
      "outputs": []
    },
    {
      "metadata": {
        "_cell_guid": "80f4d589-c8de-4fcf-b60e-e4576fe0b23a",
        "_uuid": "d25926c1a7bada2dee4aacefc93da38053341189",
        "trusted": true,
        "id": "Y-x9CkM0GmmK"
      },
      "cell_type": "code",
      "source": [
        "class CFRecommender:\n",
        "\n",
        "    MODEL_NAME = 'Collaborative Filtering'\n",
        "\n",
        "    def __init__(self, cf_predictions_df, items_df=None):\n",
        "        self.cf_predictions_df = cf_predictions_df\n",
        "        self.items_df = items_df\n",
        "\n",
        "    def get_model_name(self):\n",
        "        return self.MODEL_NAME\n",
        "\n",
        "    def recommend_items(self, user_id, items_to_ignore=[], topn=10, verbose=False):\n",
        "        # Get and sort the user's predictions\n",
        "        sorted_user_predictions = self.cf_predictions_df[user_id].sort_values(ascending=False) \\\n",
        "                                    .reset_index().rename(columns={user_id: 'recStrength'})\n",
        "\n",
        "        # Recommend the highest predicted rating movies that the user hasn't seen yet.\n",
        "        recommendations_df = sorted_user_predictions[~sorted_user_predictions['contentId'].isin(items_to_ignore)] \\\n",
        "                               .sort_values('recStrength', ascending = False) \\\n",
        "                               .head(topn)\n",
        "\n",
        "        if verbose:\n",
        "            if self.items_df is None:\n",
        "                raise Exception('\"items_df\" is required in verbose mode')\n",
        "\n",
        "            recommendations_df = recommendations_df.merge(self.items_df, how = 'left',\n",
        "                                                          left_on = 'contentId',\n",
        "                                                          right_on = 'contentId')[['recStrength', 'contentId', 'title', 'url', 'lang']]\n",
        "\n",
        "\n",
        "        return recommendations_df\n",
        "\n",
        "cf_recommender_model = CFRecommender(cf_preds_df, articles_df)"
      ],
      "execution_count": null,
      "outputs": []
    },
    {
      "metadata": {
        "_cell_guid": "8059422d-f93d-4879-a909-d22c8d746d60",
        "_uuid": "fe9beef019f59a65799ab58a1229874746c60765",
        "id": "qrlRkJ3TGmmK"
      },
      "cell_type": "markdown",
      "source": [
        "> Evaluating the Collaborative Filtering model (SVD matrix factorization), we observe that we got **Recall@5 (33%)** and **Recall@10 (46%)** values, much higher than Popularity model and Content-Based model."
      ]
    },
    {
      "metadata": {
        "_cell_guid": "f4a2af7e-d368-432d-9ec5-d9229caf208a",
        "_uuid": "d80d307ff6b740b134ac2186f2659d468d3c2655",
        "trusted": true,
        "id": "s7LsBxNYGmmL"
      },
      "cell_type": "code",
      "source": [
        "print('Evaluating Collaborative Filtering (SVD Matrix Factorization) model...')\n",
        "cf_global_metrics, cf_detailed_results_df = model_evaluator.evaluate_model(cf_recommender_model)\n",
        "print('\\nGlobal metrics:\\n%s' % cf_global_metrics)\n",
        "cf_detailed_results_df.head(10)"
      ],
      "execution_count": null,
      "outputs": []
    },
    {
      "metadata": {
        "_cell_guid": "385247d0-adf3-4094-94df-5c9eb4838849",
        "_uuid": "b9e9ef77403ce530fa25d4f57a43261baa3b13cc",
        "id": "reNBH29yGmmM"
      },
      "cell_type": "markdown",
      "source": [
        "## Hybrid Recommender"
      ]
    },
    {
      "metadata": {
        "_cell_guid": "f82c40f2-cbba-4cd1-817f-c8a1f27dd4fb",
        "_uuid": "255de28ff7990e2ba7a0e7ad50b6887740d76c28",
        "id": "w62fF5GWGmmM"
      },
      "cell_type": "markdown",
      "source": [
        "What if we combine Collaborative Filtering and Content-Based Filtering approaches?    \n",
        "Would that provide us with more accurate recommendations?    \n",
        "In fact, hybrid methods have performed better than individual approaches in many studies and have being extensively used by researchers and practioners.  \n",
        "Let's build a simple hybridization method, as an ensemble that takes the weighted average of the normalized CF scores with the Content-Based scores, and ranking by resulting score. In this case, as the CF model is much more accurate than the CB model, the weights for the CF and CB models are 100.0 and 1.0, respectivelly."
      ]
    },
    {
      "metadata": {
        "_cell_guid": "6014bdf1-448e-485c-9a7a-410f875f92ce",
        "_uuid": "52fabb5abddc6b642ec94434efbf64dac1bd6cd9",
        "trusted": true,
        "id": "5vobM-UnGmmM"
      },
      "cell_type": "code",
      "source": [
        "class HybridRecommender:\n",
        "\n",
        "    MODEL_NAME = 'Hybrid'\n",
        "\n",
        "    def __init__(self, cb_rec_model, cf_rec_model, items_df, cb_ensemble_weight=1.0, cf_ensemble_weight=1.0):\n",
        "        self.cb_rec_model = cb_rec_model\n",
        "        self.cf_rec_model = cf_rec_model\n",
        "        self.cb_ensemble_weight = cb_ensemble_weight\n",
        "        self.cf_ensemble_weight = cf_ensemble_weight\n",
        "        self.items_df = items_df\n",
        "\n",
        "    def get_model_name(self):\n",
        "        return self.MODEL_NAME\n",
        "\n",
        "    def recommend_items(self, user_id, items_to_ignore=[], topn=10, verbose=False):\n",
        "        #Getting the top-1000 Content-based filtering recommendations\n",
        "        cb_recs_df = self.cb_rec_model.recommend_items(user_id, items_to_ignore=items_to_ignore, verbose=verbose,\n",
        "                                                           topn=1000).rename(columns={'recStrength': 'recStrengthCB'})\n",
        "\n",
        "        #Getting the top-1000 Collaborative filtering recommendations\n",
        "        cf_recs_df = self.cf_rec_model.recommend_items(user_id, items_to_ignore=items_to_ignore, verbose=verbose,\n",
        "                                                           topn=1000).rename(columns={'recStrength': 'recStrengthCF'})\n",
        "\n",
        "        #Combining the results by contentId\n",
        "        recs_df = cb_recs_df.merge(cf_recs_df,\n",
        "                                   how = 'outer',\n",
        "                                   left_on = 'contentId',\n",
        "                                   right_on = 'contentId').fillna(0.0)\n",
        "\n",
        "        #Computing a hybrid recommendation score based on CF and CB scores\n",
        "        #recs_df['recStrengthHybrid'] = recs_df['recStrengthCB'] * recs_df['recStrengthCF']\n",
        "        recs_df['recStrengthHybrid'] = (recs_df['recStrengthCB'] * self.cb_ensemble_weight) \\\n",
        "                                     + (recs_df['recStrengthCF'] * self.cf_ensemble_weight)\n",
        "\n",
        "        #Sorting recommendations by hybrid score\n",
        "        recommendations_df = recs_df.sort_values('recStrengthHybrid', ascending=False).head(topn)\n",
        "\n",
        "        if verbose:\n",
        "            if self.items_df is None:\n",
        "                raise Exception('\"items_df\" is required in verbose mode')\n",
        "\n",
        "            recommendations_df = recommendations_df.merge(self.items_df, how = 'left',\n",
        "                                                          left_on = 'contentId',\n",
        "                                                          right_on = 'contentId')[['recStrengthHybrid', 'contentId', 'title', 'url', 'lang']]\n",
        "\n",
        "\n",
        "        return recommendations_df\n",
        "\n",
        "hybrid_recommender_model = HybridRecommender(content_based_recommender_model, cf_recommender_model, articles_df,\n",
        "                                             cb_ensemble_weight=1.0, cf_ensemble_weight=100.0)"
      ],
      "execution_count": null,
      "outputs": []
    },
    {
      "metadata": {
        "_cell_guid": "d5f5129c-7ca6-44da-99d7-224f8cba1c6d",
        "_uuid": "14a63938f9ea9c4dc939e1831f486bf9e444853c",
        "id": "c_Z4B_5AGmmN"
      },
      "cell_type": "markdown",
      "source": [
        "**We have a new champion!**  \n",
        "Our simple hybrid approach surpasses Content-Based filtering with its combination with Collaborative Filtering. Now we have a **Recall@5** of **34.2%** and **Recall@10** of **47.9%**"
      ]
    },
    {
      "metadata": {
        "_cell_guid": "ba301021-8c21-458b-8565-ae0d6e88b637",
        "_uuid": "131844d0156a866c688b19181fc63fa676017d67",
        "trusted": true,
        "id": "vkzwOwZtGmmN"
      },
      "cell_type": "code",
      "source": [
        "print('Evaluating Hybrid model...')\n",
        "hybrid_global_metrics, hybrid_detailed_results_df = model_evaluator.evaluate_model(hybrid_recommender_model)\n",
        "print('\\nGlobal metrics:\\n%s' % hybrid_global_metrics)\n",
        "hybrid_detailed_results_df.head(10)"
      ],
      "execution_count": null,
      "outputs": []
    },
    {
      "metadata": {
        "_cell_guid": "bde95842-5f92-4161-943f-34ec80969aa4",
        "_uuid": "2732ea17af581efaec91458a7b2666f76c8bfd1d",
        "id": "nfWOeIKWGmmN"
      },
      "cell_type": "markdown",
      "source": [
        "## Comparing the methods"
      ]
    },
    {
      "metadata": {
        "_cell_guid": "6b294753-5371-46cb-a7fa-d4f2d8c1a3e2",
        "_uuid": "06c824e8787618cc02eace0196423acb32981aec",
        "trusted": true,
        "id": "a7EN9R4iGmmO"
      },
      "cell_type": "code",
      "source": [
        "global_metrics_df = pd.DataFrame([cb_global_metrics, pop_global_metrics, cf_global_metrics, hybrid_global_metrics]) \\\n",
        "                        .set_index('modelName')\n",
        "global_metrics_df"
      ],
      "execution_count": null,
      "outputs": []
    },
    {
      "metadata": {
        "_cell_guid": "e4a67773-62e1-4eb5-a6fe-4342fb71590a",
        "_uuid": "432c01385dc6fc238a53eb0a0bbec61b641ef263",
        "trusted": true,
        "id": "aIyns0lAGmmO"
      },
      "cell_type": "code",
      "source": [
        "%matplotlib inline\n",
        "ax = global_metrics_df.transpose().plot(kind='bar', figsize=(15,8))\n",
        "for p in ax.patches:\n",
        "    ax.annotate(\"%.3f\" % p.get_height(), (p.get_x() + p.get_width() / 2., p.get_height()), ha='center', va='center', xytext=(0, 10), textcoords='offset points')"
      ],
      "execution_count": null,
      "outputs": []
    },
    {
      "metadata": {
        "_cell_guid": "60689e32-a091-4067-9aa6-3520d4d48af2",
        "_uuid": "24bc9679fb3bfc224aeda1b236e36ab17c468d18",
        "id": "eFq5-kCrGmmP"
      },
      "cell_type": "markdown",
      "source": [
        "# Testing"
      ]
    },
    {
      "metadata": {
        "_cell_guid": "58b12970-5607-4626-b6a0-e6941730a059",
        "_uuid": "1e7aa27a218a053a58b0b39618eec3429da3ef6a",
        "id": "6pCFF11_GmmQ"
      },
      "cell_type": "markdown",
      "source": [
        "Let's test the best model (Hybrid) for my user."
      ]
    },
    {
      "metadata": {
        "_cell_guid": "07d07d66-1092-4316-a852-d5895d364737",
        "_uuid": "5dad675fe82c4008691ac140e5e57fe29544a940",
        "trusted": true,
        "id": "E3GqK7BkGmmQ"
      },
      "cell_type": "code",
      "source": [
        "def inspect_interactions(person_id, test_set=True):\n",
        "    if test_set:\n",
        "        interactions_df = interactions_test_indexed_df\n",
        "    else:\n",
        "        interactions_df = interactions_train_indexed_df\n",
        "    return interactions_df.loc[person_id].merge(articles_df, how = 'left',\n",
        "                                                      left_on = 'contentId',\n",
        "                                                      right_on = 'contentId') \\\n",
        "                          .sort_values('eventStrength', ascending = False)[['eventStrength',\n",
        "                                                                          'contentId',\n",
        "                                                                          'title', 'url', 'lang']]"
      ],
      "execution_count": null,
      "outputs": []
    },
    {
      "metadata": {
        "_cell_guid": "b76a6f66-6aec-47af-a8f6-6c594781cddc",
        "_uuid": "e377b6a862349fa8483deea70f1c362117f25001",
        "id": "fS3-WsEFGmmQ"
      },
      "cell_type": "markdown",
      "source": [
        "Here we see some articles I interacted in Deskdrop from train set. It can be easily observed that among my main interests are **machine learning**, **deep learning**, **artificial intelligence**, and **google cloud platform**."
      ]
    },
    {
      "metadata": {
        "_cell_guid": "ec962ce2-0593-4d29-8383-57dc9e785589",
        "_uuid": "d850f080e3a24aab664c10f7ab1a9eb3dc5bed39",
        "trusted": true,
        "id": "fOGbqtldGmmR"
      },
      "cell_type": "code",
      "source": [
        "inspect_interactions(-1479311724257856983, test_set=False).head(20)"
      ],
      "execution_count": null,
      "outputs": []
    },
    {
      "metadata": {
        "_cell_guid": "c6427984-842a-4d61-8a23-580b93e0fa12",
        "_uuid": "a6d56dc1c9d14e39d95e11a6f616ca2c577cd37f",
        "id": "Fk7-TIIGGmmR"
      },
      "cell_type": "markdown",
      "source": [
        "**The recommendations really matches my interests, as I would read all of them!**"
      ]
    },
    {
      "metadata": {
        "_cell_guid": "71944eb4-51ee-4e23-8643-ef2abe83822e",
        "_uuid": "af890f5ca9b3ae92bfdb51e61af6d5737aaf8e56",
        "trusted": true,
        "id": "jktCjbZ3GmmS"
      },
      "cell_type": "code",
      "source": [
        "hybrid_recommender_model.recommend_items(-1479311724257856983, topn=20, verbose=True)"
      ],
      "execution_count": null,
      "outputs": []
    },
    {
      "metadata": {
        "_cell_guid": "75bf1701-e83c-4440-b088-858380e584e3",
        "_uuid": "72a8ec0dc47d567c6a891f51622747154075058d",
        "id": "s-jt_WcRGmmT"
      },
      "cell_type": "markdown",
      "source": [
        "# Conclusion"
      ]
    },
    {
      "metadata": {
        "_cell_guid": "0fe267b0-2cef-404f-be12-b4dab61a483c",
        "_uuid": "e85e19fdd4e120b4552e97565457845c510fa65d",
        "id": "kE-OGxWIGmmW"
      },
      "cell_type": "markdown",
      "source": [
        "In this notebook, we've explored and compared the main Recommender Systems techniques on [CI&T Deskdrop](https://www.kaggle.com/gspmoreira/articles-sharing-reading-from-cit-deskdrop) dataset. It could be observed that for articles recommendation, content-based filtering and a hybrid method performed better than Collaborative Filtering alone.  \n",
        "\n",
        "There is large room for improvements of the results. Here are some tips:\n",
        "- In this example, we've completely ignored the time, considering that all articles were available to be recommended to users at any time. A better approach would be to filter only articles that were available for users at a given time.\n",
        "- You could leverage the available contextual information to model users preferences across time (period of day, day of week, month), location (country and state/district) and devices (browser, mobile native app).  \n",
        "This contextual information can be easily incorporated in [Learn-to-Rank](https://en.wikipedia.org/wiki/Learning_to_rank) models (like XGBoost Gradient Boosting Decision Trees with ranking objective), Logistic models (with categorical features [One-Hot encoded](http://scikit-learn.org/stable/modules/generated/sklearn.preprocessing.OneHotEncoder.html) or [Feature Hashed](https://en.wikipedia.org/wiki/Feature_hashing)), and [Wide & Deep models](https://ai.googleblog.com/2016/06/wide-deep-learning-better-together-with.html), which is implemented in [TensorFlow](https://docs.w3cub.com/tensorflow~guide/tutorials/wide_and_deep/). Take a look in the summary my solution shared for [Outbrain Click Prediction](https://www.kaggle.com/c/outbrain-click-prediction/discussion/27897#157215) competition.\n",
        "- Those basic techniques were used for didactic purposes. There are more advanced techniques in RecSys research community, specially advanced Matrix Factorization and Deep Learning models.  \n",
        "\n",
        "You can know more about state-of-the-art methods published in Recommender Systems on [ACM RecSys conference](https://recsys.acm.org/).  \n",
        "If you are more like practioner than researcher, you might try some Collaborative Filtering frameworks in this dataset, like [surprise](https://github.com/NicolasHug/Surprise), [mrec](https://github.com/Mendeley/mrec),  [python-recsys](https://github.com/ocelma/python-recsys) and [Spark ALS Matrix Factorization](https://spark.apache.org/docs/latest/mllib-collaborative-filtering.html) (distributed implementation for large datasets).  \n",
        "Take a look in this [presentation](https://www.slideshare.net/gabrielspmoreira/discovering-users-topics-of-interest-in-recommender-systems-tdc-sp-2016) where I describe a production recommender system, focused on Content-Based Filtering and Topic Modeling techniques."
      ]
    },
    {
      "metadata": {
        "trusted": true,
        "id": "J1IObr75GmmX"
      },
      "cell_type": "code",
      "source": [],
      "execution_count": null,
      "outputs": []
    }
  ],
  "metadata": {
    "language_info": {
      "nbconvert_exporter": "python",
      "pygments_lexer": "ipython3",
      "mimetype": "text/x-python",
      "name": "python",
      "version": "3.6.3",
      "codemirror_mode": {
        "version": 3,
        "name": "ipython"
      },
      "file_extension": ".py"
    },
    "kernelspec": {
      "display_name": "Python 3",
      "name": "python3",
      "language": "python"
    },
    "colab": {
      "name": "Recommender Systems in Python 101",
      "provenance": []
    }
  },
  "nbformat": 4,
  "nbformat_minor": 0
}