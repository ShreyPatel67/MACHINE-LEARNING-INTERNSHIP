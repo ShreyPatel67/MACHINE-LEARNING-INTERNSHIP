{
  "metadata": {
    "kernelspec": {
      "language": "python",
      "display_name": "Python 3",
      "name": "python3"
    },
    "language_info": {
      "name": "python",
      "version": "3.10.12",
      "mimetype": "text/x-python",
      "codemirror_mode": {
        "name": "ipython",
        "version": 3
      },
      "pygments_lexer": "ipython3",
      "nbconvert_exporter": "python",
      "file_extension": ".py"
    },
    "colab": {
      "name": "Cats vs Dogs : Image Classification using CNN(95%)",
      "provenance": []
    }
  },
  "nbformat_minor": 0,
  "nbformat": 4,
  "cells": [
    {
      "cell_type": "markdown",
      "source": [
        "<a id='2'></a>\n",
        "<div class=\"alert alert-block alert-info\"><h2 style=\"text-align:center;color:black\"> Data Description </h2> </div>\n",
        "\n",
        "The training archive contains 25,000 images of dogs and cats.\n",
        "\n",
        "Train your algorithm on these files and predict the labels for test1.zip.\n",
        "* **1 = dog**\n",
        "* **0 = cat**\n"
      ],
      "metadata": {
        "id": "89HuH8eO7fAd"
      }
    },
    {
      "cell_type": "markdown",
      "source": [
        "<a id='3'></a>\n",
        "<div class=\"alert alert-block alert-info\"><h2 style=\"text-align:center;color:black\"> Loading Libraries </h2> </div>"
      ],
      "metadata": {
        "id": "z6zxGQRa7fAe"
      }
    },
    {
      "cell_type": "code",
      "source": [
        "# Basic\n",
        "import os\n",
        "from os import makedirs\n",
        "from os import listdir\n",
        "from shutil import copyfile\n",
        "from random import seed\n",
        "from random import random\n",
        "import numpy as np\n",
        "import pandas as pd\n",
        "\n",
        "# visuals\n",
        "import seaborn as sns\n",
        "import matplotlib.pyplot as plt\n",
        "from matplotlib.image import imread\n",
        "from PIL import Image\n",
        "\n",
        "# Scikit-learn\n",
        "from sklearn.model_selection import train_test_split\n",
        "from sklearn.metrics import classification_report,confusion_matrix,ConfusionMatrixDisplay\n",
        "\n",
        "# Tensorflow\n",
        "import tensorflow as tf\n",
        "from tensorflow.keras.models import Sequential\n",
        "from tensorflow.keras.preprocessing.image import ImageDataGenerator\n",
        "from tensorflow.keras.layers import Dense,MaxPooling2D,Dropout,Flatten,BatchNormalization,Conv2D\n",
        "from tensorflow.keras.callbacks import ReduceLROnPlateau,EarlyStopping"
      ],
      "metadata": {
        "execution": {
          "iopub.status.busy": "2023-09-05T14:35:56.251814Z",
          "iopub.execute_input": "2023-09-05T14:35:56.252235Z",
          "iopub.status.idle": "2023-09-05T14:35:56.260866Z",
          "shell.execute_reply.started": "2023-09-05T14:35:56.252204Z",
          "shell.execute_reply": "2023-09-05T14:35:56.259533Z"
        },
        "_kg_hide-output": true,
        "trusted": true,
        "id": "FyYK6ai37fAe"
      },
      "execution_count": null,
      "outputs": []
    },
    {
      "cell_type": "markdown",
      "source": [
        "<a id='4'></a>\n",
        "<div class=\"alert alert-block alert-info\"><h2 style=\"text-align:center;color:black\"> Data Extraction </h2> </div>"
      ],
      "metadata": {
        "id": "T8BKx7mI7fAg"
      }
    },
    {
      "cell_type": "code",
      "source": [
        "train_path = \"../input/dogs-vs-cats/test1.zip\"\n",
        "test_path = \"../input/dogs-vs-cats/train.zip\"\n",
        "\n",
        "files = \"/kaggle/working/\"\n",
        "\n",
        "import zipfile\n",
        "\n",
        "with zipfile.ZipFile(train_path, 'r') as zipp:\n",
        "    zipp.extractall(files)\n",
        "\n",
        "with zipfile.ZipFile(test_path, 'r') as zipp:\n",
        "    zipp.extractall(files)"
      ],
      "metadata": {
        "execution": {
          "iopub.status.busy": "2023-09-05T13:47:45.979689Z",
          "iopub.execute_input": "2023-09-05T13:47:45.980955Z",
          "iopub.status.idle": "2023-09-05T13:48:03.919766Z",
          "shell.execute_reply.started": "2023-09-05T13:47:45.980919Z",
          "shell.execute_reply": "2023-09-05T13:48:03.918726Z"
        },
        "trusted": true,
        "id": "ktdbfbCR7fAg"
      },
      "execution_count": null,
      "outputs": []
    },
    {
      "cell_type": "markdown",
      "source": [
        "### Loading Images in a Dataframe"
      ],
      "metadata": {
        "id": "hlUTtTaU7fBD"
      }
    },
    {
      "cell_type": "code",
      "source": [
        "image_dir = \"../working/train/\"\n",
        "\n",
        "filenames = os.listdir(image_dir)\n",
        "labels = [x.split(\".\")[0] for x in filenames]\n",
        "\n",
        "data = pd.DataFrame({\"filename\": filenames, \"label\": labels})\n",
        "\n",
        "data.head()"
      ],
      "metadata": {
        "execution": {
          "iopub.status.busy": "2023-09-05T13:48:09.144563Z",
          "iopub.execute_input": "2023-09-05T13:48:09.144927Z",
          "iopub.status.idle": "2023-09-05T13:48:09.1954Z",
          "shell.execute_reply.started": "2023-09-05T13:48:09.144897Z",
          "shell.execute_reply": "2023-09-05T13:48:09.194456Z"
        },
        "trusted": true,
        "id": "HVtquuXP7fBD"
      },
      "execution_count": null,
      "outputs": []
    },
    {
      "cell_type": "code",
      "source": [
        "plt.figure(figsize=(20,20)) # specifying the overall grid size\n",
        "plt.subplots_adjust(hspace=0.4)\n",
        "\n",
        "\n",
        "for i in range(10):\n",
        "\n",
        "    plt.subplot(1,10,i+1)    # the number of images in the grid is 10*10 (100)\n",
        "    filename = 'train/' + 'dog.' + str(i) + '.jpg'\n",
        "    image = imread(filename)\n",
        "    plt.imshow(image)\n",
        "    plt.title('Dog',fontsize=12)\n",
        "    plt.axis('off')\n",
        "\n",
        "plt.show()"
      ],
      "metadata": {
        "execution": {
          "iopub.status.busy": "2023-09-05T13:48:18.729817Z",
          "iopub.execute_input": "2023-09-05T13:48:18.730492Z",
          "iopub.status.idle": "2023-09-05T13:48:19.746436Z",
          "shell.execute_reply.started": "2023-09-05T13:48:18.730458Z",
          "shell.execute_reply": "2023-09-05T13:48:19.745511Z"
        },
        "_kg_hide-input": true,
        "trusted": true,
        "id": "E9Y1ld4p7fBF"
      },
      "execution_count": null,
      "outputs": []
    },
    {
      "cell_type": "markdown",
      "source": [
        "<h5 style=\"text-align:center;color:Red\">We visualize few images of Cats. </h5>"
      ],
      "metadata": {
        "id": "4v0aAoQN7fBF"
      }
    },
    {
      "cell_type": "code",
      "source": [
        "plt.figure(figsize=(20,20)) # specifying the overall grid size\n",
        "plt.subplots_adjust(hspace=0.4)\n",
        "\n",
        "\n",
        "for i in range(10):\n",
        "\n",
        "    plt.subplot(1,10,i+1)    # the number of images in the grid is 10*10 (100)\n",
        "    filename = 'train/' + 'cat.' + str(i) + '.jpg'\n",
        "    image = imread(filename)\n",
        "    plt.imshow(image)\n",
        "    plt.title('Cat',fontsize=12)\n",
        "    plt.axis('off')\n",
        "\n",
        "plt.show()"
      ],
      "metadata": {
        "execution": {
          "iopub.status.busy": "2023-09-05T13:48:24.109937Z",
          "iopub.execute_input": "2023-09-05T13:48:24.110358Z",
          "iopub.status.idle": "2023-09-05T13:48:25.068551Z",
          "shell.execute_reply.started": "2023-09-05T13:48:24.110307Z",
          "shell.execute_reply": "2023-09-05T13:48:25.06771Z"
        },
        "_kg_hide-input": true,
        "trusted": true,
        "id": "0bwzQSKS7fBF"
      },
      "execution_count": null,
      "outputs": []
    },
    {
      "cell_type": "markdown",
      "source": [
        "<a id='7'></a>\n",
        "<div class=\"alert alert-block alert-warning\"><h4 style=\"text-align:center;color:black\"> Using Dataframe </h4> </div>"
      ],
      "metadata": {
        "id": "swK3QPMq7fBG"
      }
    },
    {
      "cell_type": "code",
      "source": [
        "# train test split using dataframe\n",
        "\n",
        "labels = data['label']\n",
        "\n",
        "X_train, X_temp = train_test_split(data, test_size=0.2, stratify=labels, random_state = 42)\n",
        "\n",
        "label_test_val = X_temp['label']\n",
        "\n",
        "X_test, X_val = train_test_split(X_temp, test_size=0.5, stratify=label_test_val, random_state = 42)\n",
        "\n",
        "print('The shape of train data',X_train.shape)\n",
        "print('The shape of test data',X_test.shape)\n",
        "print('The shape of validation data',X_val.shape)"
      ],
      "metadata": {
        "execution": {
          "iopub.status.busy": "2023-09-05T13:48:32.965079Z",
          "iopub.execute_input": "2023-09-05T13:48:32.965438Z",
          "iopub.status.idle": "2023-09-05T13:48:33.034261Z",
          "shell.execute_reply.started": "2023-09-05T13:48:32.965409Z",
          "shell.execute_reply": "2023-09-05T13:48:33.033108Z"
        },
        "trusted": true,
        "id": "76SErAVE7fBH"
      },
      "execution_count": null,
      "outputs": []
    },
    {
      "cell_type": "markdown",
      "source": [
        "Now we will Create a barplot to see the class distrubtion in trainting dataset."
      ],
      "metadata": {
        "id": "FevShh3v7fBH"
      }
    },
    {
      "cell_type": "code",
      "source": [
        "labels = ['Cat','Dog']\n",
        "\n",
        "label1,count1 = np.unique(X_train.label,return_counts=True)\n",
        "label2,count2 = np.unique(X_val.label,return_counts=True)\n",
        "label3,count3 = np.unique(X_test.label,return_counts=True)\n",
        "\n",
        "uni1 = pd.DataFrame(data=count1,index=labels,columns=['Count1'])\n",
        "uni2 = pd.DataFrame(data=count2,index=labels,columns=['Count2'])\n",
        "uni3 = pd.DataFrame(data=count3,index=labels,columns=['Count3'])\n",
        "\n",
        "\n",
        "plt.figure(figsize=(20,6),dpi=200)\n",
        "sns.set_style('darkgrid')\n",
        "\n",
        "plt.subplot(131)\n",
        "sns.barplot(data=uni1,x=uni1.index,y='Count1',palette='icefire',width=0.2).set_title('Class distribution in Training set',fontsize=15)\n",
        "plt.xlabel('Labels',fontsize=12)\n",
        "plt.ylabel('Count',fontsize=12)\n",
        "\n",
        "plt.subplot(132)\n",
        "sns.barplot(data=uni2,x=uni2.index,y='Count2',palette='icefire',width=0.2).set_title('Class distribution in validation set',fontsize=15)\n",
        "plt.xlabel('Labels',fontsize=12)\n",
        "plt.ylabel('Count',fontsize=12)\n",
        "\n",
        "\n",
        "plt.subplot(133)\n",
        "sns.barplot(data=uni3,x=uni3.index,y='Count3',palette='icefire',width=0.2).set_title('Class distribution in Testing set',fontsize=15)\n",
        "plt.xlabel('Labels',fontsize=12)\n",
        "plt.ylabel('Count',fontsize=12)\n",
        "\n",
        "plt.show()"
      ],
      "metadata": {
        "execution": {
          "iopub.status.busy": "2023-09-05T13:48:37.209453Z",
          "iopub.execute_input": "2023-09-05T13:48:37.210153Z",
          "iopub.status.idle": "2023-09-05T13:48:38.03665Z",
          "shell.execute_reply.started": "2023-09-05T13:48:37.210118Z",
          "shell.execute_reply": "2023-09-05T13:48:38.035696Z"
        },
        "_kg_hide-input": true,
        "trusted": true,
        "id": "KxT0-xrR7fBH"
      },
      "execution_count": null,
      "outputs": []
    },
    {
      "cell_type": "markdown",
      "source": [
        "<a id='8'></a>\n",
        "<div class=\"alert alert-block alert-warning\"><h4 style=\"text-align:center;color:black\"> Using Directory </h4> </div>"
      ],
      "metadata": {
        "id": "Pjas0rOk7fBH"
      }
    },
    {
      "cell_type": "code",
      "source": [
        "# create directories\n",
        "dataset_home = 'dataset_dogs_vs_cats/'\n",
        "subdirs = ['train/', 'test/']\n",
        "\n",
        "for subdir in subdirs:\n",
        "    # create label subdirectories\n",
        "    labeldirs = ['dogs/', 'cats/']\n",
        "    for labldir in labeldirs:\n",
        "        newdir = dataset_home + subdir + labldir\n",
        "        makedirs(newdir, exist_ok=True)\n",
        "# seed random number generator\n",
        "seed(1)\n",
        "# define ratio of pictures to use for validation\n",
        "val_ratio = 0.2\n",
        "# copy training dataset images into subdirectories\n",
        "src_directory = 'train/'\n",
        "for file in listdir(src_directory):\n",
        "        src = src_directory + '/' + file\n",
        "        dst_dir = 'train/'\n",
        "        if random() < val_ratio:\n",
        "            dst_dir = 'test/'\n",
        "        if file.startswith('cat'):\n",
        "            dst = dataset_home + dst_dir + 'cats/' + file\n",
        "            copyfile(src, dst)\n",
        "        elif file.startswith('dog'):\n",
        "            dst = dataset_home + dst_dir + 'dogs/' + file\n",
        "            copyfile(src, dst)\n",
        "\n",
        "\n",
        "path1 = \"/kaggle/working/dataset_dogs_vs_cats/train/cats\"\n",
        "path2 = \"/kaggle/working/dataset_dogs_vs_cats/train/dogs\"\n",
        "path3 = \"/kaggle/working/dataset_dogs_vs_cats/test/cats\"\n",
        "path4 = \"/kaggle/working/dataset_dogs_vs_cats/test/dogs\"\n",
        "\n",
        "\n",
        "print('Then number of cat images in training data is' ,len(os.listdir(path1)))\n",
        "print('Then number of dog images in training data is' ,len(os.listdir(path2)))\n",
        "print('Then number of cat images in validation data is' ,len(os.listdir(path3)))\n",
        "print('Then number of dog images in validation data is' ,len(os.listdir(path4)))\n"
      ],
      "metadata": {
        "execution": {
          "iopub.status.busy": "2023-09-05T13:48:46.839843Z",
          "iopub.execute_input": "2023-09-05T13:48:46.840217Z",
          "iopub.status.idle": "2023-09-05T13:48:49.361872Z",
          "shell.execute_reply.started": "2023-09-05T13:48:46.840183Z",
          "shell.execute_reply": "2023-09-05T13:48:49.360796Z"
        },
        "_kg_hide-input": true,
        "trusted": true,
        "id": "iNyrepWH7fBI"
      },
      "execution_count": null,
      "outputs": []
    },
    {
      "cell_type": "markdown",
      "source": [
        "<a id='9'></a>\n",
        "<div class=\"alert alert-block alert-info\"><h2 style=\"text-align:center;color:black\"> Data Preparation </h2> </div>\n",
        "\n",
        "firstly, we will list out all the important parameters and respective values."
      ],
      "metadata": {
        "id": "im7a6iqr7fBJ"
      }
    },
    {
      "cell_type": "code",
      "source": [
        "# parameters\n",
        "image_size = 128\n",
        "image_channel = 3\n",
        "bat_size = 32"
      ],
      "metadata": {
        "execution": {
          "iopub.status.busy": "2023-09-05T13:48:56.364574Z",
          "iopub.execute_input": "2023-09-05T13:48:56.364952Z",
          "iopub.status.idle": "2023-09-05T13:48:56.369879Z",
          "shell.execute_reply.started": "2023-09-05T13:48:56.36492Z",
          "shell.execute_reply": "2023-09-05T13:48:56.368791Z"
        },
        "trusted": true,
        "id": "XkinSnNA7fBJ"
      },
      "execution_count": null,
      "outputs": []
    },
    {
      "cell_type": "markdown",
      "source": [
        "<a id='10'></a>\n",
        "<div class=\"alert alert-block alert-danger\"><h3 style=\"text-align:center;color:black\">Image Data Generator </h3> </div>\n",
        "\n",
        "* The data for will used by flow_from_dataframe and flow_from_directory.\n",
        "* The batch size is 32 and the image size is (128,128).\n"
      ],
      "metadata": {
        "id": "j92HCPSz7fBJ"
      }
    },
    {
      "cell_type": "code",
      "source": [
        "# Creating image data generator\n",
        "train_datagen = ImageDataGenerator(rescale=1./255,\n",
        "                                    rotation_range = 15,\n",
        "                                    horizontal_flip = True,\n",
        "                                    zoom_range = 0.2,\n",
        "                                    shear_range = 0.1,\n",
        "                                    fill_mode = 'reflect',\n",
        "                                    width_shift_range = 0.1,\n",
        "                                    height_shift_range = 0.1)\n",
        "\n",
        "test_datagen = ImageDataGenerator(rescale=1./255)"
      ],
      "metadata": {
        "execution": {
          "iopub.status.busy": "2023-09-05T13:48:59.919701Z",
          "iopub.execute_input": "2023-09-05T13:48:59.920071Z",
          "iopub.status.idle": "2023-09-05T13:48:59.926486Z",
          "shell.execute_reply.started": "2023-09-05T13:48:59.92004Z",
          "shell.execute_reply": "2023-09-05T13:48:59.925241Z"
        },
        "trusted": true,
        "id": "cH403Ivy7fBK"
      },
      "execution_count": null,
      "outputs": []
    },
    {
      "cell_type": "markdown",
      "source": [
        "<a id='11'></a>\n",
        "<div class=\"alert alert-block alert-warning\"><h4 style=\"text-align:center;color:black\"> Using Dataframe </h4> </div>"
      ],
      "metadata": {
        "id": "gdHUXiKn7fBK"
      }
    },
    {
      "cell_type": "code",
      "source": [
        "# Applying image data gernerator to train and test data\n",
        "\n",
        "train_generator = train_datagen.flow_from_dataframe(X_train,\n",
        "                                                    directory = 'train/',\n",
        "                                                    x_col= 'filename',\n",
        "                                                    y_col= 'label',\n",
        "                                                    batch_size = bat_size,\n",
        "                                                    target_size = (image_size,image_size)\n",
        "                                                   )\n",
        "val_generator = test_datagen.flow_from_dataframe(X_val,\n",
        "                                                 directory = 'train/',\n",
        "                                                 x_col= 'filename',\n",
        "                                                 y_col= 'label',\n",
        "                                                 batch_size = bat_size,\n",
        "                                                 target_size = (image_size,image_size),\n",
        "                                                 shuffle=False\n",
        "                                                )\n",
        "\n",
        "test_generator = test_datagen.flow_from_dataframe(X_test,\n",
        "                                                  directory = 'train/',\n",
        "                                                  x_col= 'filename',\n",
        "                                                  y_col= 'label',\n",
        "                                                  batch_size = bat_size,\n",
        "                                                  target_size = (image_size,image_size),\n",
        "                                                  shuffle=False\n",
        "                                                 )"
      ],
      "metadata": {
        "execution": {
          "iopub.status.busy": "2023-09-05T13:49:03.174663Z",
          "iopub.execute_input": "2023-09-05T13:49:03.175028Z",
          "iopub.status.idle": "2023-09-05T13:49:03.477142Z",
          "shell.execute_reply.started": "2023-09-05T13:49:03.174999Z",
          "shell.execute_reply": "2023-09-05T13:49:03.476055Z"
        },
        "trusted": true,
        "id": "JxmsGzV27fBK"
      },
      "execution_count": null,
      "outputs": []
    },
    {
      "cell_type": "markdown",
      "source": [
        "<a id='12'></a>\n",
        "<div class=\"alert alert-block alert-warning\"><h4 style=\"text-align:center;color:black\"> Using Directory </h4> </div>"
      ],
      "metadata": {
        "id": "V7175IrT7fBM"
      }
    },
    {
      "cell_type": "code",
      "source": [
        "train_gen = train_datagen.flow_from_directory('/kaggle/working/dataset_dogs_vs_cats/train/',\n",
        "                                              class_mode='binary',\n",
        "                                              target_size = (image_size,image_size),\n",
        "                                              batch_size = bat_size,\n",
        "                                             )\n",
        "\n",
        "val_gen = test_datagen.flow_from_directory('/kaggle/working/dataset_dogs_vs_cats/test/',\n",
        "                                          class_mode='binary',\n",
        "                                          batch_size = bat_size,\n",
        "                                          target_size = (image_size,image_size),\n",
        "                                          shuffle = False\n",
        "                                         )"
      ],
      "metadata": {
        "execution": {
          "iopub.status.busy": "2023-09-05T15:05:32.785369Z",
          "iopub.execute_input": "2023-09-05T15:05:32.785738Z",
          "iopub.status.idle": "2023-09-05T15:05:33.461229Z",
          "shell.execute_reply.started": "2023-09-05T15:05:32.785707Z",
          "shell.execute_reply": "2023-09-05T15:05:33.460326Z"
        },
        "trusted": true,
        "id": "oSfCfhXv7fBN"
      },
      "execution_count": null,
      "outputs": []
    },
    {
      "cell_type": "markdown",
      "source": [
        "<a id='13'></a>\n",
        "<div class=\"alert alert-block alert-info\"><h2 style=\"text-align:center;color:black\"> Deep Learning Model </h2> </div>"
      ],
      "metadata": {
        "id": "tiF0I6LV7fBO"
      }
    },
    {
      "cell_type": "code",
      "source": [
        "learning_rate_reduction = ReduceLROnPlateau(monitor = 'val_accuracy',\n",
        "                                            patience=2,\n",
        "                                            factor=0.5,\n",
        "                                            min_lr = 0.00001,\n",
        "                                            verbose = 1)\n",
        "\n",
        "early_stoping = EarlyStopping(monitor='val_loss',patience= 3,restore_best_weights=True,verbose=0)"
      ],
      "metadata": {
        "execution": {
          "iopub.status.busy": "2023-09-05T13:50:35.345069Z",
          "iopub.execute_input": "2023-09-05T13:50:35.34543Z",
          "iopub.status.idle": "2023-09-05T13:50:35.352108Z",
          "shell.execute_reply.started": "2023-09-05T13:50:35.345401Z",
          "shell.execute_reply": "2023-09-05T13:50:35.350825Z"
        },
        "trusted": true,
        "id": "XRRDb7b87fBP"
      },
      "execution_count": null,
      "outputs": []
    },
    {
      "cell_type": "code",
      "source": [
        "model.compile(optimizer='adam',loss='binary_crossentropy',metrics=['accuracy'])"
      ],
      "metadata": {
        "execution": {
          "iopub.status.busy": "2023-09-05T13:50:00.299663Z",
          "iopub.execute_input": "2023-09-05T13:50:00.300547Z",
          "iopub.status.idle": "2023-09-05T13:50:00.320395Z",
          "shell.execute_reply.started": "2023-09-05T13:50:00.300512Z",
          "shell.execute_reply": "2023-09-05T13:50:00.31947Z"
        },
        "trusted": true,
        "id": "UG9CBkPH7fBP"
      },
      "execution_count": null,
      "outputs": []
    },
    {
      "cell_type": "code",
      "source": [
        "cat_dog = model.fit(train_generator,\n",
        "                    validation_data = val_generator,\n",
        "                    callbacks=[early_stoping,learning_rate_reduction],\n",
        "                    epochs = 30,\n",
        "                    # steps_per_epoch = len(train_generator),\n",
        "                    # validation_steps = len(val_generaotor),\n",
        "                   )"
      ],
      "metadata": {
        "execution": {
          "iopub.status.busy": "2023-09-05T13:50:38.996717Z",
          "iopub.execute_input": "2023-09-05T13:50:38.997099Z",
          "iopub.status.idle": "2023-09-05T14:20:52.678296Z",
          "shell.execute_reply.started": "2023-09-05T13:50:38.997067Z",
          "shell.execute_reply": "2023-09-05T14:20:52.677203Z"
        },
        "_kg_hide-output": true,
        "trusted": true,
        "id": "lRo8JiwX7fBX"
      },
      "execution_count": null,
      "outputs": []
    },
    {
      "cell_type": "markdown",
      "source": [
        "<a id='17'></a>\n",
        "<div class=\"alert alert-block alert-danger\"><h3 style=\"text-align:center;color:black\"> Plot the results </h3> </div>"
      ],
      "metadata": {
        "id": "dLoNsbuu7fBX"
      }
    },
    {
      "cell_type": "code",
      "source": [
        "# plots for accuracy and Loss with epochs\n",
        "\n",
        "error = pd.DataFrame(cat_dog.history)\n",
        "\n",
        "plt.figure(figsize=(18,5),dpi=200)\n",
        "sns.set_style('darkgrid')\n",
        "\n",
        "plt.subplot(121)\n",
        "plt.title('Cross Entropy Loss',fontsize=15)\n",
        "plt.xlabel('Epochs',fontsize=12)\n",
        "plt.ylabel('Loss',fontsize=12)\n",
        "plt.plot(error['loss'])\n",
        "plt.plot(error['val_loss'])\n",
        "\n",
        "plt.subplot(122)\n",
        "plt.title('Classification Accuracy',fontsize=15)\n",
        "plt.xlabel('Epochs',fontsize=12)\n",
        "plt.ylabel('Accuracy',fontsize=12)\n",
        "plt.plot(error['accuracy'])\n",
        "plt.plot(error['val_accuracy'])\n",
        "\n",
        "plt.show()"
      ],
      "metadata": {
        "_kg_hide-input": true,
        "execution": {
          "iopub.status.busy": "2023-09-05T14:23:31.710594Z",
          "iopub.execute_input": "2023-09-05T14:23:31.711004Z",
          "iopub.status.idle": "2023-09-05T14:24:22.711667Z",
          "shell.execute_reply.started": "2023-09-05T14:23:31.710969Z",
          "shell.execute_reply": "2023-09-05T14:24:22.710688Z"
        },
        "trusted": true,
        "id": "QY0mS9107fBX"
      },
      "execution_count": null,
      "outputs": []
    },
    {
      "cell_type": "markdown",
      "source": [
        "<a id='18'></a>\n",
        "<div class=\"alert alert-block alert-danger\"><h3 style=\"text-align:center;color:black\"> Evaluvation </h3> </div>\n",
        "\n",
        "we will evaluvate the Training and validation data accuracy and loss."
      ],
      "metadata": {
        "id": "xEf9vDHs7fBY"
      }
    },
    {
      "cell_type": "code",
      "source": [
        "# Evaluvate for train generator\n",
        "loss,acc = model.evaluate(train_generator,batch_size = bat_size, verbose = 0)\n",
        "\n",
        "print('The accuracy of the model for training data is:',acc*100)\n",
        "print('The Loss of the model for training data is:',loss)\n",
        "\n",
        "# Evaluvate for validation generator\n",
        "loss,acc = model.evaluate(val_generator,batch_size = bat_size, verbose = 0)\n",
        "\n",
        "print('The accuracy of the model for validation data is:',acc*100)\n",
        "print('The Loss of the model for validation data is:',loss)"
      ],
      "metadata": {
        "_kg_hide-input": true,
        "execution": {
          "iopub.status.busy": "2023-09-05T14:24:58.829815Z",
          "iopub.execute_input": "2023-09-05T14:24:58.830198Z",
          "iopub.status.idle": "2023-09-05T14:26:42.954357Z",
          "shell.execute_reply.started": "2023-09-05T14:24:58.830167Z",
          "shell.execute_reply": "2023-09-05T14:26:42.952944Z"
        },
        "trusted": true,
        "id": "X52z8qcA7fBY"
      },
      "execution_count": null,
      "outputs": []
    },
    {
      "cell_type": "markdown",
      "source": [
        "Finally, we will save the model for future use."
      ],
      "metadata": {
        "id": "IyAtOlGe7fBY"
      }
    },
    {
      "cell_type": "code",
      "source": [
        "# Save the Model\n",
        "model.save(\"model.h5\")"
      ],
      "metadata": {
        "execution": {
          "iopub.status.busy": "2023-09-05T14:26:42.957417Z",
          "iopub.execute_input": "2023-09-05T14:26:42.958445Z",
          "iopub.status.idle": "2023-09-05T14:26:43.107784Z",
          "shell.execute_reply.started": "2023-09-05T14:26:42.958258Z",
          "shell.execute_reply": "2023-09-05T14:26:43.10678Z"
        },
        "trusted": true,
        "id": "xUQ7fZx87fBY"
      },
      "execution_count": null,
      "outputs": []
    },
    {
      "cell_type": "markdown",
      "source": [
        "<a id='19'></a>\n",
        "<div class=\"alert alert-block alert-info\"><h2 style=\"text-align:center;color:black\"> Prediction </h2> </div>\n",
        "\n",
        "Now, we will predict the model on test dataset."
      ],
      "metadata": {
        "id": "ap_4F3HG7fBZ"
      }
    },
    {
      "cell_type": "code",
      "source": [
        "# prediction\n",
        "result = model.predict(test_generator,batch_size = bat_size,verbose = 0)\n",
        "\n",
        "y_pred = np.argmax(result, axis = 1)\n",
        "\n",
        "y_true = test_generator.labels\n",
        "\n",
        "# Evaluvate\n",
        "loss,acc = model.evaluate(test_generator, batch_size = bat_size, verbose = 0)\n",
        "\n",
        "print('The accuracy of the model for testing data is:',acc*100)\n",
        "print('The Loss of the model for testing data is:',loss)"
      ],
      "metadata": {
        "execution": {
          "iopub.status.busy": "2023-09-05T14:27:06.299747Z",
          "iopub.execute_input": "2023-09-05T14:27:06.300335Z",
          "iopub.status.idle": "2023-09-05T14:27:13.998495Z",
          "shell.execute_reply.started": "2023-09-05T14:27:06.300301Z",
          "shell.execute_reply": "2023-09-05T14:27:13.997454Z"
        },
        "trusted": true,
        "id": "8tg33dqQ7fBZ"
      },
      "execution_count": null,
      "outputs": []
    },
    {
      "cell_type": "markdown",
      "source": [
        "Classification report"
      ],
      "metadata": {
        "id": "D27XP7l_7fBa"
      }
    },
    {
      "cell_type": "code",
      "source": [
        "labels =['Cat','Dog']\n",
        "print(classification_report(y_true, y_pred,target_names=labels))"
      ],
      "metadata": {
        "execution": {
          "iopub.status.busy": "2023-09-05T14:27:19.159733Z",
          "iopub.execute_input": "2023-09-05T14:27:19.160747Z",
          "iopub.status.idle": "2023-09-05T14:27:19.180458Z",
          "shell.execute_reply.started": "2023-09-05T14:27:19.160712Z",
          "shell.execute_reply": "2023-09-05T14:27:19.179448Z"
        },
        "_kg_hide-input": true,
        "trusted": true,
        "id": "_4Ip9Zl37fBa"
      },
      "execution_count": null,
      "outputs": []
    },
    {
      "cell_type": "markdown",
      "source": [
        "confusioin matrix"
      ],
      "metadata": {
        "id": "YXau7rpC7fBa"
      }
    },
    {
      "cell_type": "code",
      "source": [
        "confusion_mtx = confusion_matrix(y_true,y_pred)\n",
        "\n",
        "f,ax = plt.subplots(figsize = (8,4),dpi=200)\n",
        "sns.heatmap(confusion_mtx, annot=True, linewidths=0.1, cmap = \"gist_yarg_r\", linecolor=\"black\", fmt='.0f', ax=ax,cbar=False, xticklabels=labels, yticklabels=labels)\n",
        "\n",
        "plt.xlabel(\"Predicted Label\",fontsize=10)\n",
        "plt.ylabel(\"True Label\",fontsize=10)\n",
        "plt.title(\"Confusion Matrix\",fontsize=13)\n",
        "\n",
        "plt.show()"
      ],
      "metadata": {
        "execution": {
          "iopub.status.busy": "2023-09-05T14:27:22.841287Z",
          "iopub.execute_input": "2023-09-05T14:27:22.84164Z",
          "iopub.status.idle": "2023-09-05T14:27:23.106554Z",
          "shell.execute_reply.started": "2023-09-05T14:27:22.841611Z",
          "shell.execute_reply": "2023-09-05T14:27:23.105668Z"
        },
        "_kg_hide-input": true,
        "trusted": true,
        "id": "n3n7q35S7fBb"
      },
      "execution_count": null,
      "outputs": []
    },
    {
      "cell_type": "markdown",
      "source": [
        "<a id='20'></a>\n",
        "<div class=\"alert alert-block alert-info\"><h2 style=\"text-align:center;color:black\"> submission </h2> </div>\n",
        "Make predictions on kaggle test data for submission."
      ],
      "metadata": {
        "id": "8myW5tjy7fBc"
      }
    },
    {
      "cell_type": "code",
      "source": [
        "size =(128,128)\n",
        "\n",
        "# loading into dataframe\n",
        "test_dir = \"../working/test1/\"\n",
        "filenames = os.listdir(test_dir)\n",
        "test_data = pd.DataFrame({\"filename\": filenames})\n",
        "test_data['label'] = 'unknown'\n",
        "\n",
        "# Create data genenerator for test data\n",
        "test1_idg =  test_datagen.flow_from_dataframe(test_data,\n",
        "                                     \"test1/\",\n",
        "                                     x_col= \"filename\",\n",
        "                                     y_col = 'label',\n",
        "                                     batch_size = bat_size,\n",
        "                                     target_size=size,\n",
        "                                     shuffle = False)\n",
        "\n",
        "# Test Prediction\n",
        "test1_predict = model.predict(test1_idg,verbose = 0)\n",
        "\n",
        "test1_predict_argmax = np.argmax(test1_predict, axis=1)\n",
        "\n",
        "y_test_pred = test1_predict_argmax\n",
        "\n",
        "test_data['label'] = y_test_pred\n",
        "\n",
        "# mapping\n",
        "label_mapping = {0: 'cat', 1: 'dog'}\n",
        "test_data['label'] = test_data['label'].map(label_mapping)\n",
        "test_data.head()\n",
        "\n",
        "# csv file output for submission\n",
        "sub = pd.read_csv('/kaggle/input/dogs-vs-cats/sampleSubmission.csv',index_col='id')\n",
        "\n",
        "sub['label'] = y_test_pred\n",
        "\n",
        "sub.to_csv('submission.csv',index=True)"
      ],
      "metadata": {
        "execution": {
          "iopub.status.busy": "2023-09-05T14:41:38.289739Z",
          "iopub.execute_input": "2023-09-05T14:41:38.290138Z",
          "iopub.status.idle": "2023-09-05T14:41:56.482153Z",
          "shell.execute_reply.started": "2023-09-05T14:41:38.290107Z",
          "shell.execute_reply": "2023-09-05T14:41:56.481092Z"
        },
        "_kg_hide-input": true,
        "trusted": true,
        "id": "u1Ouof6m7fBc"
      },
      "execution_count": null,
      "outputs": []
    },
    {
      "cell_type": "markdown",
      "source": [
        "<a id='21'></a>\n",
        "<div class=\"alert alert-block alert-danger\"><h3 style=\"text-align:center;color:black\"> Visualize Classified Images  </h3> </div>"
      ],
      "metadata": {
        "id": "JtNgOypI7fBd"
      }
    },
    {
      "cell_type": "code",
      "source": [
        "fig, axes = plt.subplots(1, 10, figsize=(20, 4))\n",
        "for idx in range(10):\n",
        "    image_path = os.path.join(test_dir, test_data.iloc[idx]['filename'])\n",
        "    image = Image.open(image_path)\n",
        "    axes[idx].imshow(image)\n",
        "    axes[idx].set_title(\"Label: \" + test_data.iloc[idx]['label'])\n",
        "    axes[idx].axis('off')\n",
        "plt.show()"
      ],
      "metadata": {
        "execution": {
          "iopub.status.busy": "2023-09-05T14:41:56.484409Z",
          "iopub.execute_input": "2023-09-05T14:41:56.484822Z",
          "iopub.status.idle": "2023-09-05T14:41:57.990679Z",
          "shell.execute_reply.started": "2023-09-05T14:41:56.484785Z",
          "shell.execute_reply": "2023-09-05T14:41:57.989632Z"
        },
        "_kg_hide-input": true,
        "trusted": true,
        "id": "5DM4KwNy7fBd"
      },
      "execution_count": null,
      "outputs": []
    },
    {
      "cell_type": "markdown",
      "source": [
        "After watching the images we can see the our model is quite accurate with 94% accuracy."
      ],
      "metadata": {
        "id": "KQDUWrlC7fBe"
      }
    },
    {
      "cell_type": "markdown",
      "source": [
        "\n",
        "<a id='22'></a>\n",
        "<div class=\"alert alert-block alert-info\"><h2 style=\"text-align:center;color:black\"> Conclusion </h2> </div>\n",
        "\n",
        "\n",
        "We successfully built a deep neural network model by implementing Convolutional Neural Network (CNN) to classify dog and cat images with very high accuracy 97.32 %.\n",
        "\n",
        "The model was used to predict the classes of the images from the independent test set and results were submitted to test the accuracy of the prediction with fresh data.\n",
        "\n",
        "The Cat vs Dog Image Classification model demonstrates the successful implementation of a Convolutional Neural Network for image classification tasks. By accurately distinguishing between images of cats and dogs, this project showcases the potential of deep learning algorithms in solving real-world problems involving image analysis. Through this project, we aim to inspire further exploration of CNNs and their applications in various domains,"
      ],
      "metadata": {
        "id": "m4t232bX7fBe"
      }
    }
  ]
}